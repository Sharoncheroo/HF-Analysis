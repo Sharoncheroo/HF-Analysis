{
 "cells": [
  {
   "cell_type": "code",
   "execution_count": 1,
   "metadata": {},
   "outputs": [],
   "source": [
    "import pandas as pd"
   ]
  },
  {
   "cell_type": "code",
   "execution_count": 3,
   "metadata": {},
   "outputs": [],
   "source": [
    "data = pd.read_excel(r\"C:\\Users\\Sharon\\Desktop\\Electricity\\Junior Data Analyst _ Data.xlsx\")"
   ]
  },
  {
   "cell_type": "code",
   "execution_count": 4,
   "metadata": {},
   "outputs": [
    {
     "data": {
      "text/html": [
       "<div>\n",
       "<style scoped>\n",
       "    .dataframe tbody tr th:only-of-type {\n",
       "        vertical-align: middle;\n",
       "    }\n",
       "\n",
       "    .dataframe tbody tr th {\n",
       "        vertical-align: top;\n",
       "    }\n",
       "\n",
       "    .dataframe thead th {\n",
       "        text-align: right;\n",
       "    }\n",
       "</style>\n",
       "<table border=\"1\" class=\"dataframe\">\n",
       "  <thead>\n",
       "    <tr style=\"text-align: right;\">\n",
       "      <th></th>\n",
       "      <th>Hour</th>\n",
       "      <th>Date/hour start</th>\n",
       "      <th>Solar electricity generation (kWh)</th>\n",
       "      <th>Electricity usage (kWh)</th>\n",
       "    </tr>\n",
       "  </thead>\n",
       "  <tbody>\n",
       "    <tr>\n",
       "      <th>0</th>\n",
       "      <td>0</td>\n",
       "      <td>2020-01-01 00:00:00</td>\n",
       "      <td>0.0</td>\n",
       "      <td>1.509849</td>\n",
       "    </tr>\n",
       "    <tr>\n",
       "      <th>1</th>\n",
       "      <td>1</td>\n",
       "      <td>2020-01-01 01:00:00</td>\n",
       "      <td>0.0</td>\n",
       "      <td>1.411859</td>\n",
       "    </tr>\n",
       "    <tr>\n",
       "      <th>2</th>\n",
       "      <td>2</td>\n",
       "      <td>2020-01-01 02:00:00</td>\n",
       "      <td>0.0</td>\n",
       "      <td>1.023898</td>\n",
       "    </tr>\n",
       "    <tr>\n",
       "      <th>3</th>\n",
       "      <td>3</td>\n",
       "      <td>2020-01-01 03:00:00</td>\n",
       "      <td>0.0</td>\n",
       "      <td>0.642000</td>\n",
       "    </tr>\n",
       "    <tr>\n",
       "      <th>4</th>\n",
       "      <td>4</td>\n",
       "      <td>2020-01-01 04:00:00</td>\n",
       "      <td>0.0</td>\n",
       "      <td>0.960000</td>\n",
       "    </tr>\n",
       "  </tbody>\n",
       "</table>\n",
       "</div>"
      ],
      "text/plain": [
       "   Hour     Date/hour start  Solar electricity generation (kWh)  \\\n",
       "0     0 2020-01-01 00:00:00                                 0.0   \n",
       "1     1 2020-01-01 01:00:00                                 0.0   \n",
       "2     2 2020-01-01 02:00:00                                 0.0   \n",
       "3     3 2020-01-01 03:00:00                                 0.0   \n",
       "4     4 2020-01-01 04:00:00                                 0.0   \n",
       "\n",
       "   Electricity usage (kWh)  \n",
       "0                 1.509849  \n",
       "1                 1.411859  \n",
       "2                 1.023898  \n",
       "3                 0.642000  \n",
       "4                 0.960000  "
      ]
     },
     "execution_count": 4,
     "metadata": {},
     "output_type": "execute_result"
    }
   ],
   "source": [
    "data.head()"
   ]
  },
  {
   "cell_type": "code",
   "execution_count": 7,
   "metadata": {},
   "outputs": [
    {
     "data": {
      "text/plain": [
       "(8760, 4)"
      ]
     },
     "execution_count": 7,
     "metadata": {},
     "output_type": "execute_result"
    }
   ],
   "source": [
    "data.shape"
   ]
  },
  {
   "cell_type": "code",
   "execution_count": 5,
   "metadata": {},
   "outputs": [
    {
     "name": "stdout",
     "output_type": "stream",
     "text": [
      "<class 'pandas.core.frame.DataFrame'>\n",
      "RangeIndex: 8760 entries, 0 to 8759\n",
      "Data columns (total 4 columns):\n",
      " #   Column                              Non-Null Count  Dtype         \n",
      "---  ------                              --------------  -----         \n",
      " 0   Hour                                8760 non-null   int64         \n",
      " 1   Date/hour start                     8760 non-null   datetime64[ns]\n",
      " 2   Solar electricity generation (kWh)  8760 non-null   float64       \n",
      " 3   Electricity usage (kWh)             8760 non-null   float64       \n",
      "dtypes: datetime64[ns](1), float64(2), int64(1)\n",
      "memory usage: 273.9 KB\n"
     ]
    }
   ],
   "source": [
    "data.info()"
   ]
  },
  {
   "cell_type": "code",
   "execution_count": 8,
   "metadata": {},
   "outputs": [
    {
     "data": {
      "text/html": [
       "<div>\n",
       "<style scoped>\n",
       "    .dataframe tbody tr th:only-of-type {\n",
       "        vertical-align: middle;\n",
       "    }\n",
       "\n",
       "    .dataframe tbody tr th {\n",
       "        vertical-align: top;\n",
       "    }\n",
       "\n",
       "    .dataframe thead th {\n",
       "        text-align: right;\n",
       "    }\n",
       "</style>\n",
       "<table border=\"1\" class=\"dataframe\">\n",
       "  <thead>\n",
       "    <tr style=\"text-align: right;\">\n",
       "      <th></th>\n",
       "      <th>Hour</th>\n",
       "      <th>Date/hour start</th>\n",
       "      <th>Solar electricity generation (kWh)</th>\n",
       "      <th>Electricity usage (kWh)</th>\n",
       "    </tr>\n",
       "  </thead>\n",
       "  <tbody>\n",
       "    <tr>\n",
       "      <th>count</th>\n",
       "      <td>8760.000000</td>\n",
       "      <td>8760</td>\n",
       "      <td>8760.000000</td>\n",
       "      <td>8760.000000</td>\n",
       "    </tr>\n",
       "    <tr>\n",
       "      <th>mean</th>\n",
       "      <td>11.500000</td>\n",
       "      <td>2020-07-02 07:37:13.972602624</td>\n",
       "      <td>1.116750</td>\n",
       "      <td>7.312704</td>\n",
       "    </tr>\n",
       "    <tr>\n",
       "      <th>min</th>\n",
       "      <td>0.000000</td>\n",
       "      <td>2020-01-01 00:00:00</td>\n",
       "      <td>0.000000</td>\n",
       "      <td>-12.624000</td>\n",
       "    </tr>\n",
       "    <tr>\n",
       "      <th>25%</th>\n",
       "      <td>5.750000</td>\n",
       "      <td>2020-04-02 05:45:00</td>\n",
       "      <td>0.000000</td>\n",
       "      <td>0.300000</td>\n",
       "    </tr>\n",
       "    <tr>\n",
       "      <th>50%</th>\n",
       "      <td>11.500000</td>\n",
       "      <td>2020-07-02 11:30:00</td>\n",
       "      <td>0.024000</td>\n",
       "      <td>0.621000</td>\n",
       "    </tr>\n",
       "    <tr>\n",
       "      <th>75%</th>\n",
       "      <td>17.250000</td>\n",
       "      <td>2020-10-01 17:15:00</td>\n",
       "      <td>1.272750</td>\n",
       "      <td>1.686000</td>\n",
       "    </tr>\n",
       "    <tr>\n",
       "      <th>max</th>\n",
       "      <td>23.000000</td>\n",
       "      <td>2020-12-31 23:00:00</td>\n",
       "      <td>13.050000</td>\n",
       "      <td>46000.000000</td>\n",
       "    </tr>\n",
       "    <tr>\n",
       "      <th>std</th>\n",
       "      <td>6.922582</td>\n",
       "      <td>NaN</td>\n",
       "      <td>2.026098</td>\n",
       "      <td>491.479806</td>\n",
       "    </tr>\n",
       "  </tbody>\n",
       "</table>\n",
       "</div>"
      ],
      "text/plain": [
       "              Hour                Date/hour start  \\\n",
       "count  8760.000000                           8760   \n",
       "mean     11.500000  2020-07-02 07:37:13.972602624   \n",
       "min       0.000000            2020-01-01 00:00:00   \n",
       "25%       5.750000            2020-04-02 05:45:00   \n",
       "50%      11.500000            2020-07-02 11:30:00   \n",
       "75%      17.250000            2020-10-01 17:15:00   \n",
       "max      23.000000            2020-12-31 23:00:00   \n",
       "std       6.922582                            NaN   \n",
       "\n",
       "       Solar electricity generation (kWh)  Electricity usage (kWh)  \n",
       "count                         8760.000000              8760.000000  \n",
       "mean                             1.116750                 7.312704  \n",
       "min                              0.000000               -12.624000  \n",
       "25%                              0.000000                 0.300000  \n",
       "50%                              0.024000                 0.621000  \n",
       "75%                              1.272750                 1.686000  \n",
       "max                             13.050000             46000.000000  \n",
       "std                              2.026098               491.479806  "
      ]
     },
     "execution_count": 8,
     "metadata": {},
     "output_type": "execute_result"
    }
   ],
   "source": [
    "data.describe()"
   ]
  }
 ],
 "metadata": {
  "kernelspec": {
   "display_name": "Python 3",
   "language": "python",
   "name": "python3"
  },
  "language_info": {
   "codemirror_mode": {
    "name": "ipython",
    "version": 3
   },
   "file_extension": ".py",
   "mimetype": "text/x-python",
   "name": "python",
   "nbconvert_exporter": "python",
   "pygments_lexer": "ipython3",
   "version": "3.11.0"
  }
 },
 "nbformat": 4,
 "nbformat_minor": 2
}
